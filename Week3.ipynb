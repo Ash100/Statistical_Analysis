{
  "nbformat": 4,
  "nbformat_minor": 0,
  "metadata": {
    "colab": {
      "provenance": [],
      "authorship_tag": "ABX9TyPiUFF9OPYETI13eLcbucK5",
      "include_colab_link": true
    },
    "kernelspec": {
      "name": "python3",
      "display_name": "Python 3"
    },
    "language_info": {
      "name": "python"
    }
  },
  "cells": [
    {
      "cell_type": "markdown",
      "metadata": {
        "id": "view-in-github",
        "colab_type": "text"
      },
      "source": [
        "<a href=\"https://colab.research.google.com/github/Ash100/Statistical_Analysis/blob/main/Week3.ipynb\" target=\"_parent\"><img src=\"https://colab.research.google.com/assets/colab-badge.svg\" alt=\"Open In Colab\"/></a>"
      ]
    },
    {
      "cell_type": "markdown",
      "source": [
        "### ============================================================\n",
        "### 🧬 Practical: Statistical Tests on Gene Expression & Mutation Data\n",
        "### ============================================================\n",
        "\n",
        "### Author: **Dr. Ashfaq Ahmad**\n",
        "### Course: Biostatistics / Computational Biology\n",
        "### Topic: Hypothesis Testing — t-test and Chi-square test\n",
        "### Tool: Google Colab\n",
        "### ============================================================\n",
        "\n",
        "\n",
        "\n",
        "\n"
      ],
      "metadata": {
        "id": "R58gFqnNq9DR"
      }
    },
    {
      "cell_type": "code",
      "execution_count": 1,
      "metadata": {
        "id": "WcdfMSgkq8aq"
      },
      "outputs": [],
      "source": [
        "# Let's import essential packages\n",
        "import pandas as pd\n",
        "import numpy as np\n",
        "import matplotlib.pyplot as plt\n",
        "import seaborn as sns\n",
        "from scipy import stats\n",
        "\n",
        "# Set style\n",
        "sns.set(style=\"whitegrid\", font_scale=1.2)\n"
      ]
    },
    {
      "cell_type": "markdown",
      "source": [
        "## 🧠 1. Introduction\n",
        "\n",
        "In this practical, we will learn how to apply **t-tests** and **Chi-square tests** to biological data.\n",
        "\n",
        "Both are **hypothesis testing methods** used to compare groups:\n",
        "\n",
        "- **t-test** → used for comparing **means** of two groups (e.g., gene expression in healthy vs diseased tissue)\n",
        "- **Chi-square test** → used for comparing **frequencies or proportions** (e.g., mutation presence across genders or tumor types)\n",
        "\n",
        "We will:\n",
        "1. Simulate gene expression data for two groups.\n",
        "2. Perform independent t-tests.\n",
        "3. Interpret p-values.\n",
        "4. Create a mutation dataset (categorical).\n",
        "5. Perform Chi-square tests for independence.\n",
        "6. Visualize and interpret the results.\n"
      ],
      "metadata": {
        "id": "okhpVVsXrnfc"
      }
    },
    {
      "cell_type": "code",
      "source": [
        "# Step 3 — Simulate gene expression data for Healthy and Disease samples\n",
        "\n",
        "np.random.seed(42)\n",
        "n_samples = 50\n",
        "\n",
        "# Expression values (log2 normalized)\n",
        "healthy_expr = np.random.normal(loc=6.5, scale=0.8, size=n_samples)\n",
        "disease_expr = np.random.normal(loc=7.2, scale=0.9, size=n_samples)\n",
        "\n",
        "# Combine into a single DataFrame\n",
        "gene_expr_df = pd.DataFrame({\n",
        "    \"Expression\": np.concatenate([healthy_expr, disease_expr]),\n",
        "    \"Group\": [\"Healthy\"] * n_samples + [\"Disease\"] * n_samples\n",
        "})\n",
        "\n",
        "# Display first few rows\n",
        "gene_expr_df.head()\n"
      ],
      "metadata": {
        "id": "uU5IquZqr9OM"
      },
      "execution_count": null,
      "outputs": []
    },
    {
      "cell_type": "code",
      "source": [
        "# Step 4 — Boxplot and swarm overlay for visualization (with saving option)\n",
        "\n",
        "plt.figure(figsize=(7,5))\n",
        "sns.boxplot(x=\"Group\", y=\"Expression\", data=gene_expr_df, palette=\"Set2\")\n",
        "sns.stripplot(x=\"Group\", y=\"Expression\", data=gene_expr_df, color=\"black\", size=3, alpha=0.7)\n",
        "plt.title(\"Gene Expression in Healthy vs Disease Samples\", fontsize=14)\n",
        "plt.xlabel(\"Group\")\n",
        "plt.ylabel(\"Expression (log2 normalized)\")\n",
        "plt.tight_layout()  # Adjust layout before saving\n",
        "\n",
        "# ✅ Save the figure at 600 dpi (high resolution for reports/publications)\n",
        "plt.savefig(\"gene_expression_boxplot.png\", dpi=600, bbox_inches=\"tight\")\n",
        "\n",
        "plt.show()\n",
        "\n",
        "print(\"✅ Figure saved successfully as 'gene_expression_boxplot.png'\")\n"
      ],
      "metadata": {
        "id": "FQDZc51usFoT"
      },
      "execution_count": null,
      "outputs": []
    },
    {
      "cell_type": "code",
      "source": [
        "# Step 5 — Perform independent two-sample t-test\n",
        "\n",
        "t_stat, p_value = stats.ttest_ind(healthy_expr, disease_expr, equal_var=False)\n",
        "\n",
        "print(f\"T-statistic = {t_stat:.3f}\")\n",
        "print(f\"P-value = {p_value:.5f}\")\n"
      ],
      "metadata": {
        "id": "OQvYHYfMsMgl"
      },
      "execution_count": null,
      "outputs": []
    },
    {
      "cell_type": "markdown",
      "source": [
        "### 📖 Interpretation (Based on Our Results)\n",
        "\n",
        "We obtained:\n",
        "\n",
        "- **T-statistic = -5.842**  \n",
        "- **P-value = 0.00000**\n",
        "\n",
        "#### Step 1: Recall the hypotheses\n",
        "\n",
        "- **Null hypothesis (H₀):**  \n",
        "  There is **no significant difference** in mean gene expression between *Healthy* and *Disease* groups.\n",
        "\n",
        "- **Alternative hypothesis (H₁):**  \n",
        "  There **is a significant difference** in mean gene expression between the two groups.\n",
        "\n",
        "#### Step 2: Compare p-value with significance level\n",
        "\n",
        "We usually take **α = 0.05** as the threshold.\n",
        "\n",
        "Since our **p-value < 0.05** (actually ≈ 0.00000), we have **strong evidence against H₀**.\n",
        "\n",
        "#### Step 3: Decision\n",
        "\n",
        "✅ **Reject the null hypothesis (H₀).**\n",
        "\n",
        "#### Step 4: Biological Interpretation\n",
        "\n",
        "The data indicate that **gene expression levels differ significantly** between *Healthy* and *Disease* samples.  \n",
        "This suggests that the studied gene may be **differentially expressed** and potentially **involved in disease progression or regulation**.\n",
        "\n",
        "> 💡 *Note for students:*  \n",
        "\n",
        "> Always consider **biological meaning**, **sample size**, and **effect size** — not just the p-value alone.\n"
      ],
      "metadata": {
        "id": "h47prRzbsQo9"
      }
    },
    {
      "cell_type": "markdown",
      "source": [
        "## 🧠 Understanding the Paired t-test\n",
        "\n",
        "### 🔹 What is a Paired t-test?\n",
        "\n",
        "A **paired t-test** is used when we measure **the same subjects twice** — under two different conditions — to see if there is a **significant change** between the two measurements.\n",
        "\n",
        "Typical biological examples:\n",
        "- Gene expression **before and after treatment** in the same cell line  \n",
        "- Blood glucose levels **before and after drug administration** in the same patient  \n",
        "- Protein abundance **before and after stress exposure** in the same tissue sample  \n",
        "\n",
        "It compares the **mean of the differences** between the two conditions.\n",
        "\n",
        "---\n",
        "\n",
        "### 🔹 Difference Between Independent and Paired t-test\n",
        "\n",
        "| Feature | Independent t-test | Paired t-test |\n",
        "|----------|-------------------|---------------|\n",
        "| **Samples** | Two **independent** groups (e.g., Healthy vs Disease) | Two **related** groups (e.g., before vs after) |\n",
        "| **Purpose** | Tests if the means of two unrelated groups differ | Tests if the mean difference within the same group differs from zero |\n",
        "| **Data Relationship** | Different individuals in each group | Same individuals measured twice |\n",
        "| **Error Reduction** | More variability (individual differences) | Less variability (controls for subject-specific effects) |\n",
        "\n",
        "---\n",
        "\n",
        "### 🔹 Why Do We Use a Paired t-test?\n",
        "\n",
        "Because it accounts for **inherent biological variability** between subjects.\n",
        "\n",
        "Each subject acts as their **own control**, which:\n",
        "- Removes individual differences,\n",
        "- Increases statistical power,\n",
        "- Makes it easier to detect true effects of treatment/intervention.\n",
        "\n",
        "So, if the same samples or individuals are used before and after an experiment, a **paired t-test** is the correct and more sensitive choice.\n"
      ],
      "metadata": {
        "id": "HQ2AM2_I0RyW"
      }
    },
    {
      "cell_type": "code",
      "source": [
        "# Step 7 — Paired t-test (Pre- vs Post-treatment in same samples)\n",
        "\n",
        "pre_treatment = np.random.normal(5.8, 0.6, 30)\n",
        "post_treatment = pre_treatment + np.random.normal(0.5, 0.3, 30)\n",
        "\n",
        "t_stat_paired, p_value_paired = stats.ttest_rel(pre_treatment, post_treatment)\n",
        "\n",
        "print(f\"Paired t-test → t = {t_stat_paired:.3f}, p = {p_value_paired:.5f}\")\n"
      ],
      "metadata": {
        "id": "yRBivJ-IsQSL"
      },
      "execution_count": null,
      "outputs": []
    },
    {
      "cell_type": "markdown",
      "source": [
        "## 📖 Interpretation of Paired t-test Result\n",
        "\n",
        "We obtained:\n",
        "- **t-statistic = -9.181**\n",
        "- **p-value = 0.00000**\n",
        "\n",
        "---\n",
        "\n",
        "### 🔹 Step 1: Define Hypotheses\n",
        "\n",
        "- **Null hypothesis (H₀):** There is **no significant difference** in the mean values before and after treatment (mean difference = 0).  \n",
        "- **Alternative hypothesis (H₁):** There **is a significant difference** between the means before and after treatment.\n",
        "\n",
        "---\n",
        "\n",
        "### 🔹 Step 2: Compare p-value with α = 0.05\n",
        "\n",
        "Since **p < 0.05** (actually ≈ 0.00000), we have **strong evidence against H₀**.\n",
        "\n",
        "---\n",
        "\n",
        "### 🔹 Step 3: Decision\n",
        "\n",
        "✅ **Reject the null hypothesis (H₀).**\n",
        "\n",
        "---\n",
        "\n",
        "### 🔹 Step 4: Biological Interpretation\n",
        "\n",
        "The result indicates a **highly significant change** in the measured variable after treatment.  \n",
        "Because the **t-statistic is negative (-9.181)**, it means that the **post-treatment values are higher** than the pre-treatment ones (if the differences were defined as *pre - post*).  \n",
        "\n",
        "In biological terms, this suggests that the **treatment produced a measurable effect** — for instance, gene expression, metabolite levels, or response markers have significantly changed after the intervention.\n",
        "\n",
        "> 💡 *Tip for Students:*  \n",
        "> A paired t-test tells you **whether** the change is statistically significant,  \n",
        "> but not **how large** or **biologically meaningful** the change is.  \n",
        "> For that, always inspect the data visually (boxplots, scatter plots) and calculate the **mean difference** or **effect size**.\n"
      ],
      "metadata": {
        "id": "WJx0FpI00Xrk"
      }
    },
    {
      "cell_type": "markdown",
      "source": [
        "###Simulation of Mutation Data"
      ],
      "metadata": {
        "id": "bIDTfXzs0oxG"
      }
    },
    {
      "cell_type": "code",
      "source": [
        "# Step 8 — Simulate mutation data for two tumor types\n",
        "\n",
        "np.random.seed(42)\n",
        "\n",
        "mutation_df = pd.DataFrame({\n",
        "    \"Tumor_Type\": np.random.choice([\"Lung\", \"Breast\"], size=100),\n",
        "    \"Mutation_Present\": np.random.choice([\"Yes\", \"No\"], size=100, p=[0.4, 0.6])\n",
        "})\n",
        "\n",
        "print(\"✅ Mutation dataset created!\")\n",
        "mutation_df.head()\n"
      ],
      "metadata": {
        "id": "Wogzv1n8zwoF"
      },
      "execution_count": null,
      "outputs": []
    },
    {
      "cell_type": "code",
      "source": [
        "# Step 9 — Create contingency table\n",
        "\n",
        "contingency = pd.crosstab(mutation_df[\"Tumor_Type\"], mutation_df[\"Mutation_Present\"])\n",
        "print(\"Contingency Table:\")\n",
        "display(contingency)\n"
      ],
      "metadata": {
        "id": "OOSKUf42z0BG"
      },
      "execution_count": null,
      "outputs": []
    },
    {
      "cell_type": "code",
      "source": [
        "# Step 10 — Perform Chi-square test of independence\n",
        "\n",
        "chi2, p_chi, dof, expected = stats.chi2_contingency(contingency)\n",
        "\n",
        "print(f\"Chi-square statistic = {chi2:.3f}\")\n",
        "print(f\"Degrees of freedom = {dof}\")\n",
        "print(f\"P-value = {p_chi:.5f}\")\n",
        "print(\"\\nExpected frequencies:\")\n",
        "display(pd.DataFrame(expected, index=contingency.index, columns=contingency.columns))\n"
      ],
      "metadata": {
        "id": "qqYMgUJRz2d_"
      },
      "execution_count": null,
      "outputs": []
    },
    {
      "cell_type": "markdown",
      "source": [
        "## 📖 Interpretation of Chi-square Test Results\n",
        "\n",
        "We obtained:\n",
        "\n",
        "- **Chi-square statistic = 0.474**  \n",
        "- **Degrees of freedom = 1**  \n",
        "- **P-value = 0.49120**\n",
        "\n",
        "### 🔹 Step 1: Define Hypotheses\n",
        "\n",
        "- **Null hypothesis (H₀):**  \n",
        "  Mutation frequency is **independent** of tumor type.  \n",
        "  (In other words, tumor type has no effect on whether a mutation is present.)\n",
        "\n",
        "- **Alternative hypothesis (H₁):**  \n",
        "  Mutation frequency is **dependent** on tumor type.  \n",
        "  (The distribution of mutations differs between tumor types.)\n",
        "\n",
        "---\n",
        "\n",
        "### 🔹 Step 2: Compare p-value with Significance Level (α = 0.05)\n",
        "\n",
        "Since our **p-value = 0.49120 > 0.05**,  \n",
        "we **fail to reject the null hypothesis (H₀)**.\n",
        "\n",
        "This means there is **no statistically significant association** between tumor type and mutation presence in this dataset.\n",
        "\n",
        "---\n",
        "\n",
        "### 🔹 Step 3: Interpretation of Expected Frequencies\n",
        "\n",
        "| Tumor Type | Expected “No” | Expected “Yes” |\n",
        "|-------------|---------------|----------------|\n",
        "| Breast | 30.8 | 25.2 |\n",
        "| Lung | 24.2 | 19.8 |\n",
        "\n",
        "These are the counts we would expect **if mutation and tumor type were completely independent**.  \n",
        "The observed values were close to these expected values, which supports the non-significant result.\n",
        "\n",
        "---\n",
        "\n",
        "### 🔹 Step 4: Biological Interpretation\n",
        "\n",
        "From a biological perspective, this result suggests that **mutation occurrence does not differ significantly** between *Lung* and *Breast* tumor samples in our simulated data.\n",
        "\n",
        "The mutation may therefore occur **randomly across tumor types**, rather than being specific to one type.\n",
        "\n",
        "> 💡 *Teaching Note:*  \n",
        "> A **non-significant Chi-square result** does not prove independence; it only means there is **not enough evidence** to claim a relationship exists.  \n",
        "> Larger datasets or more detailed mutation classification might reveal patterns that small samples cannot detect.\n"
      ],
      "metadata": {
        "id": "rkONNS_Bz7Eu"
      }
    }
  ]
}